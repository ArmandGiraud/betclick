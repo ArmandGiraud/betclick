{
 "cells": [
  {
   "cell_type": "code",
   "execution_count": 2,
   "metadata": {},
   "outputs": [],
   "source": [
    "import sys\n",
    "import matplotlib.pyplot as plt\n",
    "import hyperopt\n",
    "\n",
    "sys.path.insert(1, \"../src/\")\n",
    "\n",
    "from loader import load_data\n",
    "from preprocessing import ChrunPrep"
   ]
  },
  {
   "cell_type": "code",
   "execution_count": 3,
   "metadata": {},
   "outputs": [],
   "source": [
    "%load_ext autoreload\n",
    "%autoreload 2\n",
    "\n",
    "%matplotlib inline"
   ]
  },
  {
   "cell_type": "code",
   "execution_count": null,
   "metadata": {},
   "outputs": [
    {
     "name": "stdout",
     "output_type": "stream",
     "text": [
      "loading...\n"
     ]
    },
    {
     "name": "stderr",
     "output_type": "stream",
     "text": [
      "/Users/armand/anaconda3/lib/python3.7/site-packages/IPython/core/interactiveshell.py:3248: DtypeWarning: Columns (2) have mixed types. Specify dtype option on import or set low_memory=False.\n",
      "  if (await self.run_code(code, result,  async_=asy)):\n"
     ]
    },
    {
     "name": "stdout",
     "output_type": "stream",
     "text": [
      "keeping 208041 non leaky transactions\n",
      "processing col: gender\n",
      "columns ['U'] were merged: other col has 1 values\n",
      "replace rare value by the mode: M\n",
      "processing col: acquisition_channel_id\n",
      "columns ['16', '20', '12', '17'] were merged: other col has 81 values\n",
      "processing col: betclic_customer_segmentation\n",
      "creating numeric...\n"
     ]
    },
    {
     "name": "stderr",
     "output_type": "stream",
     "text": [
      "/Users/armand/anaconda3/lib/python3.7/site-packages/pandas/core/indexing.py:362: SettingWithCopyWarning: \n",
      "A value is trying to be set on a copy of a slice from a DataFrame.\n",
      "Try using .loc[row_indexer,col_indexer] = value instead\n",
      "\n",
      "See the caveats in the documentation: http://pandas.pydata.org/pandas-docs/stable/indexing.html#indexing-view-versus-copy\n",
      "  self.obj[key] = _infer_fill_value(value)\n",
      "/Users/armand/anaconda3/lib/python3.7/site-packages/pandas/core/indexing.py:543: SettingWithCopyWarning: \n",
      "A value is trying to be set on a copy of a slice from a DataFrame.\n",
      "Try using .loc[row_indexer,col_indexer] = value instead\n",
      "\n",
      "See the caveats in the documentation: http://pandas.pydata.org/pandas-docs/stable/indexing.html#indexing-view-versus-copy\n",
      "  self.obj[item] = s\n"
     ]
    },
    {
     "name": "stdout",
     "output_type": "stream",
     "text": [
      "Time intervals between bets\n"
     ]
    }
   ],
   "source": [
    "samp_size = 220000 # use small sample size for tuning\n",
    "data = load_data(\"../src/data/betclic_datascience_test_churn.csv\", samp_size, all_=False)\n",
    "\n",
    "cp = ChrunPrep()\n",
    "X = cp.fit_transform(data)\n",
    "y = cp.create_labels(data)"
   ]
  },
  {
   "cell_type": "code",
   "execution_count": 30,
   "metadata": {},
   "outputs": [
    {
     "data": {
      "text/plain": [
       "(60930, 31)"
      ]
     },
     "execution_count": 30,
     "metadata": {},
     "output_type": "execute_result"
    }
   ],
   "source": [
    "X.shape"
   ]
  },
  {
   "cell_type": "code",
   "execution_count": 19,
   "metadata": {},
   "outputs": [],
   "source": [
    "from sklearn.linear_model import LogisticRegression, LinearRegression\n",
    "from sklearn.svm import SVC\n",
    "from sklearn.ensemble import RandomForestClassifier, ExtraTreesClassifier\n",
    "from sklearn.model_selection import cross_val_score"
   ]
  },
  {
   "cell_type": "code",
   "execution_count": 20,
   "metadata": {},
   "outputs": [
    {
     "data": {
      "text/plain": [
       "-1.315047473902159"
      ]
     },
     "execution_count": 20,
     "metadata": {},
     "output_type": "execute_result"
    }
   ],
   "source": [
    "lr = LogisticRegression(C=1e10,\n",
    "                        solver=\"liblinear\",\n",
    "                        class_weight=\"balanced\",\n",
    "                        max_iter=1e5)\n",
    "\n",
    "svc = SVC(class_weight='balanced') # too long\n",
    "\n",
    "rf = RandomForestClassifier(n_estimators=100)\n",
    "\n",
    "etf = ExtraTreesClassifier(n_estimators=100)\n",
    "\n",
    "# Rf\n",
    "cross_val_score(rf, X, y, cv=5, n_jobs=-1, scoring=\"neg_log_loss\").mean()"
   ]
  },
  {
   "cell_type": "markdown",
   "metadata": {},
   "source": [
    "**note : we use neg_log_loss for scoring since it includes how far from the actual label the predicted probablity is**"
   ]
  },
  {
   "cell_type": "code",
   "execution_count": 21,
   "metadata": {},
   "outputs": [
    {
     "data": {
      "text/plain": [
       "-0.5964324101395655"
      ]
     },
     "execution_count": 21,
     "metadata": {},
     "output_type": "execute_result"
    }
   ],
   "source": [
    "#Logistic Regression\n",
    "cross_val_score(lr, X, y, cv=5, n_jobs=-1, scoring=\"neg_log_loss\").mean()"
   ]
  },
  {
   "cell_type": "code",
   "execution_count": 22,
   "metadata": {},
   "outputs": [
    {
     "data": {
      "text/plain": [
       "-0.8458904102269752"
      ]
     },
     "execution_count": 22,
     "metadata": {},
     "output_type": "execute_result"
    }
   ],
   "source": [
    "# Extra trees\n",
    "cross_val_score(etf, X, y, cv=5, n_jobs=-1, scoring=\"neg_log_loss\").mean()"
   ]
  },
  {
   "cell_type": "code",
   "execution_count": 24,
   "metadata": {},
   "outputs": [],
   "source": [
    "# without any tuning /regularization LogisticRegression seems to score best on the sample"
   ]
  },
  {
   "cell_type": "markdown",
   "metadata": {},
   "source": [
    "# Feature Selection"
   ]
  },
  {
   "cell_type": "code",
   "execution_count": 25,
   "metadata": {},
   "outputs": [
    {
     "data": {
      "text/plain": [
       "RFECV(cv=2,\n",
       "      estimator=LogisticRegression(C=10000000000.0, class_weight='balanced',\n",
       "                                   dual=False, fit_intercept=True,\n",
       "                                   intercept_scaling=1, l1_ratio=None,\n",
       "                                   max_iter=100000.0, multi_class='warn',\n",
       "                                   n_jobs=None, penalty='l2', random_state=None,\n",
       "                                   solver='liblinear', tol=0.0001, verbose=0,\n",
       "                                   warm_start=False),\n",
       "      min_features_to_select=1, n_jobs=-1, scoring='accuracy', step=1,\n",
       "      verbose=0)"
      ]
     },
     "execution_count": 25,
     "metadata": {},
     "output_type": "execute_result"
    }
   ],
   "source": [
    "from sklearn.model_selection import StratifiedKFold\n",
    "from sklearn.feature_selection import RFECV\n",
    "\n",
    "rfecv = RFECV(estimator=lr, step=1, cv=2,\n",
    "              scoring='neg_log_loss', n_jobs=-1)\n",
    "rfecv.fit(X, y)"
   ]
  },
  {
   "cell_type": "code",
   "execution_count": 29,
   "metadata": {},
   "outputs": [
    {
     "data": {
      "image/png": "[encoded data removed]",
      "text/plain": [
       "<Figure size 432x288 with 1 Axes>"
      ]
     },
     "metadata": {
      "needs_background": "light"
     },
     "output_type": "display_data"
    }
   ],
   "source": [
    "plt.figure()\n",
    "plt.xlabel(\"Number of features selected\")\n",
    "plt.ylabel(\"Cross validation score (nb of correct classifications)\")\n",
    "plt.plot(range(1, len(rfecv.grid_scores_) + 1), rfecv.grid_scores_)\n",
    "plt.show()"
   ]
  },
  {
   "cell_type": "markdown",
   "metadata": {},
   "source": [
    "# Model Selection"
   ]
  },
  {
   "cell_type": "code",
   "execution_count": 33,
   "metadata": {},
   "outputs": [
    {
     "name": "stdout",
     "output_type": "stream",
     "text": [
      "WARN: OMP_NUM_THREADS=None =>\n",
      "... If you are using openblas if you are using openblas set OMP_NUM_THREADS=1 or risk subprocess calls hanging indefinitely\n"
     ]
    }
   ],
   "source": [
    "from hpsklearn import HyperoptEstimator, any_classifier\n",
    "from sklearn.datasets import load_iris\n",
    "from hyperopt import tpe\n",
    "from sklearn.metrics import log_loss"
   ]
  },
  {
   "cell_type": "markdown",
   "metadata": {},
   "source": [
    "- We will use bayesian optimisation for fast model selection and hyperparameters tuning,\n",
    "- we will use a (very) small subset to avoid huge computing times. \n",
    "- The following code, try most sklearn classifiers and optimize parameters on default search spaces.\n",
    "- It would be beneficial to add additional classifers like xgboost or custom ones."
   ]
  },
  {
   "cell_type": "code",
   "execution_count": 34,
   "metadata": {},
   "outputs": [],
   "source": [
    "estim = HyperoptEstimator(classifier=any_classifier('my_clf'),\n",
    "                          algo=tpe.suggest,\n",
    "                          max_evals=200,\n",
    "                          trial_timeout=30, # if training round takes more than 30 seconds skip\n",
    "                          loss_fn=log_loss)"
   ]
  },
  {
   "cell_type": "code",
   "execution_count": 35,
   "metadata": {},
   "outputs": [],
   "source": [
    "from sklearn.model_selection import train_test_split\n",
    "X_train, X_test, y_train, y_test = train_test_split(X, y,\n",
    "                                                    test_size=0.80, # /!\\ use 20% of 60930 rows as train set \n",
    "                                                    random_state=42)"
   ]
  },
  {
   "cell_type": "code",
   "execution_count": 36,
   "metadata": {
    "scrolled": true
   },
   "outputs": [
    {
     "name": "stdout",
     "output_type": "stream",
     "text": [
      "100%|██████████| 1/1 [00:00<00:00,  1.03it/s, best loss: 11.801131647501773]\n",
      "100%|██████████| 1/1 [00:00<00:00,  2.83it/s, best loss: 8.032720456027223]\n",
      "100%|██████████| 1/1 [00:00<00:00,  2.53it/s, best loss: 8.032720456027223]\n",
      "100%|██████████| 1/1 [00:00<00:00,  1.23it/s, best loss: 8.032720456027223]\n",
      "100%|██████████| 1/1 [00:30<00:00, 30.18s/it, best loss: 8.032720456027223]\n",
      "100%|██████████| 1/1 [00:00<00:00,  1.04it/s, best loss: 8.032720456027223]\n",
      "100%|██████████| 1/1 [00:30<00:00, 30.07s/it, best loss: 8.032720456027223]\n",
      "100%|██████████| 1/1 [00:06<00:00,  6.53s/it, best loss: 8.032720456027223]\n",
      "100%|██████████| 1/1 [00:01<00:00,  1.26s/it, best loss: 8.032720456027223]\n",
      "100%|██████████| 1/1 [00:01<00:00,  1.37s/it, best loss: 8.032720456027223]\n",
      "100%|██████████| 1/1 [00:00<00:00,  1.62it/s, best loss: 8.032720456027223]\n",
      "100%|██████████| 1/1 [00:01<00:00,  1.37s/it, best loss: 8.032720456027223]\n",
      "100%|██████████| 1/1 [00:00<00:00,  1.65it/s, best loss: 8.032720456027223]\n",
      "100%|██████████| 1/1 [00:00<00:00,  1.55it/s, best loss: 7.976064869451276]\n",
      "100%|██████████| 1/1 [00:30<00:00, 30.07s/it, best loss: 7.976064869451276]\n",
      "100%|██████████| 1/1 [00:30<00:00, 30.07s/it, best loss: 7.976064869451276]\n",
      "100%|██████████| 1/1 [00:03<00:00,  3.95s/it, best loss: 7.976064869451276]\n",
      "100%|██████████| 1/1 [00:00<00:00,  1.08it/s, best loss: 7.976064869451276]\n",
      "100%|██████████| 1/1 [00:03<00:00,  3.77s/it, best loss: 7.976064869451276]\n",
      "100%|██████████| 1/1 [00:00<00:00,  4.24it/s, best loss: 7.976064869451276]\n",
      "100%|██████████| 1/1 [00:00<00:00,  1.56it/s, best loss: 7.976064869451276]\n",
      "100%|██████████| 1/1 [00:00<00:00,  4.22it/s, best loss: 7.976064869451276]\n",
      "100%|██████████| 1/1 [00:02<00:00,  2.25s/it, best loss: 7.976064869451276]\n",
      "100%|██████████| 1/1 [00:00<00:00,  5.77it/s, best loss: 7.976064869451276]\n",
      "100%|██████████| 1/1 [00:00<00:00,  2.54it/s, best loss: 7.976064869451276]\n",
      "100%|██████████| 1/1 [00:00<00:00,  6.88it/s, best loss: 7.976064869451276]\n",
      "100%|██████████| 1/1 [00:05<00:00,  5.63s/it, best loss: 7.976064869451276]\n",
      "100%|██████████| 1/1 [00:00<00:00,  2.69it/s, best loss: 7.976064869451276]\n",
      "100%|██████████| 1/1 [00:01<00:00,  1.64s/it, best loss: 7.976064869451276]\n",
      "100%|██████████| 1/1 [00:00<00:00,  1.99it/s, best loss: 7.976064869451276]\n",
      "100%|██████████| 1/1 [00:00<00:00,  1.13it/s, best loss: 7.976064869451276]\n",
      "100%|██████████| 1/1 [00:01<00:00,  1.66s/it, best loss: 7.976064869451276]\n",
      "100%|██████████| 1/1 [00:00<00:00,  3.28it/s, best loss: 7.976064869451276]\n",
      "100%|██████████| 1/1 [00:00<00:00,  2.89it/s, best loss: 7.976064869451276]\n",
      "100%|██████████| 1/1 [00:05<00:00,  5.44s/it, best loss: 7.976064869451276]\n",
      "100%|██████████| 1/1 [00:03<00:00,  3.22s/it, best loss: 7.976064869451276]\n",
      "100%|██████████| 1/1 [00:00<00:00,  2.71it/s, best loss: 7.976064869451276]\n",
      "100%|██████████| 1/1 [00:20<00:00, 20.01s/it, best loss: 7.976064869451276]\n",
      "100%|██████████| 1/1 [00:00<00:00,  2.87it/s, best loss: 7.976064869451276]\n",
      "100%|██████████| 1/1 [00:00<00:00,  1.50it/s, best loss: 7.976064869451276]\n",
      "100%|██████████| 1/1 [00:08<00:00,  8.09s/it, best loss: 7.976064869451276]\n",
      "100%|██████████| 1/1 [00:00<00:00,  1.26it/s, best loss: 7.976064869451276]\n",
      "100%|██████████| 1/1 [00:07<00:00,  7.01s/it, best loss: 7.976064869451276]\n",
      "100%|██████████| 1/1 [00:00<00:00,  1.80it/s, best loss: 7.976064869451276]\n",
      "100%|██████████| 1/1 [00:30<00:00, 30.24s/it, best loss: 7.976064869451276]\n",
      "100%|██████████| 1/1 [00:00<00:00,  5.25it/s, best loss: 7.976064869451276]\n",
      "100%|██████████| 1/1 [00:00<00:00,  1.78it/s, best loss: 7.976064869451276]\n",
      "100%|██████████| 1/1 [00:00<00:00,  1.35it/s, best loss: 7.976064869451276]\n",
      "100%|██████████| 1/1 [00:15<00:00, 15.94s/it, best loss: 7.976064869451276]\n",
      "100%|██████████| 1/1 [00:02<00:00,  2.31s/it, best loss: 7.976064869451276]\n",
      "100%|██████████| 1/1 [00:05<00:00,  5.20s/it, best loss: 7.976064869451276]\n",
      "100%|██████████| 1/1 [00:00<00:00,  2.63it/s, best loss: 7.976064869451276]\n",
      "100%|██████████| 1/1 [00:30<00:00, 30.17s/it, best loss: 7.976064869451276]\n",
      "100%|██████████| 1/1 [00:00<00:00,  1.10it/s, best loss: 7.976064869451276]\n",
      "100%|██████████| 1/1 [00:00<00:00,  1.06it/s, best loss: 7.976064869451276]\n",
      "100%|██████████| 1/1 [00:01<00:00,  1.86s/it, best loss: 7.976064869451276]\n",
      "100%|██████████| 1/1 [00:01<00:00,  1.29s/it, best loss: 7.976064869451276]\n",
      "100%|██████████| 1/1 [00:00<00:00,  2.98it/s, best loss: 7.976064869451276]\n",
      "100%|██████████| 1/1 [00:17<00:00, 17.95s/it, best loss: 7.976064869451276]\n",
      "100%|██████████| 1/1 [00:00<00:00,  3.62it/s, best loss: 7.976064869451276]\n",
      "100%|██████████| 1/1 [00:04<00:00,  4.83s/it, best loss: 7.976064869451276]\n",
      "100%|██████████| 1/1 [00:00<00:00,  1.14it/s, best loss: 7.976064869451276]\n",
      "100%|██████████| 1/1 [00:00<00:00,  5.83it/s, best loss: 7.976064869451276]\n",
      "100%|██████████| 1/1 [00:00<00:00,  2.54it/s, best loss: 7.976064869451276]\n",
      "100%|██████████| 1/1 [00:01<00:00,  1.47s/it, best loss: 7.976064869451276]\n",
      "100%|██████████| 1/1 [00:00<00:00,  1.57it/s, best loss: 7.9335613725023]\n",
      "100%|██████████| 1/1 [00:00<00:00,  4.55it/s, best loss: 7.9335613725023]\n",
      "100%|██████████| 1/1 [00:00<00:00,  3.13it/s, best loss: 7.9335613725023]\n",
      "100%|██████████| 1/1 [00:00<00:00,  1.58it/s, best loss: 7.9335613725023]\n",
      "100%|██████████| 1/1 [00:00<00:00,  1.56it/s, best loss: 7.9335613725023]\n",
      "100%|██████████| 1/1 [00:01<00:00,  1.15s/it, best loss: 7.9335613725023]\n",
      "100%|██████████| 1/1 [00:07<00:00,  7.26s/it, best loss: 7.9335613725023]\n",
      "100%|██████████| 1/1 [00:30<00:00, 30.24s/it, best loss: 7.9335613725023]\n",
      "100%|██████████| 1/1 [00:01<00:00,  1.25s/it, best loss: 7.9335613725023]\n",
      "100%|██████████| 1/1 [00:00<00:00,  1.94it/s, best loss: 7.9335613725023]\n",
      "100%|██████████| 1/1 [00:01<00:00,  1.10s/it, best loss: 7.9335613725023]\n",
      "100%|██████████| 1/1 [00:00<00:00,  2.98it/s, best loss: 7.9335613725023]\n",
      "100%|██████████| 1/1 [00:04<00:00,  4.72s/it, best loss: 7.9335613725023]\n",
      "100%|██████████| 1/1 [00:30<00:00, 30.14s/it, best loss: 7.9335613725023]\n",
      "100%|██████████| 1/1 [00:00<00:00,  5.75it/s, best loss: 7.9335613725023]\n",
      "100%|██████████| 1/1 [00:00<00:00,  1.21it/s, best loss: 7.9335613725023]\n",
      "100%|██████████| 1/1 [00:00<00:00,  2.26it/s, best loss: 7.9335613725023]\n",
      "100%|██████████| 1/1 [00:30<00:00, 30.25s/it, best loss: 7.9335613725023]\n",
      "100%|██████████| 1/1 [00:01<00:00,  1.15s/it, best loss: 7.9335613725023]\n",
      "100%|██████████| 1/1 [00:00<00:00,  2.50it/s, best loss: 7.9335613725023]\n",
      "100%|██████████| 1/1 [00:06<00:00,  6.07s/it, best loss: 7.9335613725023]\n",
      "100%|██████████| 1/1 [00:00<00:00,  1.16it/s, best loss: 7.9335613725023]\n",
      "100%|██████████| 1/1 [00:30<00:00, 30.13s/it, best loss: 7.9335613725023]\n",
      "100%|██████████| 1/1 [00:00<00:00,  1.00it/s, best loss: 7.9335613725023]\n",
      "100%|██████████| 1/1 [00:00<00:00,  2.65it/s, best loss: 7.9335613725023]\n",
      "100%|██████████| 1/1 [00:00<00:00,  2.81it/s, best loss: 7.8768966026908975]\n",
      "100%|██████████| 1/1 [00:00<00:00,  1.51it/s, best loss: 7.8768966026908975]\n",
      "100%|██████████| 1/1 [00:00<00:00,  2.00it/s, best loss: 7.8768966026908975]\n",
      "100%|██████████| 1/1 [00:17<00:00, 17.88s/it, best loss: 7.8768966026908975]\n",
      "100%|██████████| 1/1 [00:14<00:00, 14.44s/it, best loss: 7.721053398965572]\n",
      "100%|██████████| 1/1 [00:00<00:00,  1.26it/s, best loss: 7.721053398965572]\n",
      "100%|██████████| 1/1 [00:14<00:00, 14.61s/it, best loss: 7.721053398965572]\n",
      "100%|██████████| 1/1 [00:00<00:00,  2.58it/s, best loss: 7.721053398965572]\n",
      "100%|██████████| 1/1 [00:04<00:00,  4.94s/it, best loss: 7.721053398965572]\n",
      "100%|██████████| 1/1 [00:00<00:00,  4.04it/s, best loss: 7.721053398965572]\n",
      "100%|██████████| 1/1 [00:23<00:00, 23.24s/it, best loss: 7.721053398965572]\n",
      "100%|██████████| 1/1 [00:01<00:00,  1.76s/it, best loss: 7.721053398965572]\n",
      "100%|██████████| 1/1 [00:02<00:00,  2.05s/it, best loss: 7.721053398965572]\n",
      "100%|██████████| 1/1 [00:00<00:00,  1.97it/s, best loss: 7.721053398965572]\n",
      "100%|██████████| 1/1 [00:00<00:00,  3.03it/s, best loss: 7.721053398965572]\n",
      "100%|██████████| 1/1 [00:06<00:00,  6.85s/it, best loss: 7.721053398965572]\n",
      "100%|██████████| 1/1 [00:08<00:00,  8.20s/it, best loss: 7.721053398965572]\n",
      "100%|██████████| 1/1 [00:00<00:00,  1.12it/s, best loss: 7.721053398965572]\n",
      "100%|██████████| 1/1 [00:30<00:00, 30.16s/it, best loss: 7.721053398965572]\n",
      "100%|██████████| 1/1 [00:05<00:00,  5.05s/it, best loss: 7.721053398965572]\n",
      "100%|██████████| 1/1 [00:00<00:00,  5.65it/s, best loss: 7.721053398965572]\n",
      "100%|██████████| 1/1 [00:13<00:00, 13.33s/it, best loss: 7.721053398965572]\n",
      "100%|██████████| 1/1 [00:30<00:00, 30.16s/it, best loss: 7.721053398965572]\n",
      "100%|██████████| 1/1 [00:00<00:00,  3.72it/s, best loss: 7.721053398965572]\n",
      "100%|██████████| 1/1 [00:16<00:00, 16.73s/it, best loss: 7.721053398965572]\n",
      "100%|██████████| 1/1 [00:04<00:00,  4.33s/it, best loss: 7.706889174348891]\n",
      "100%|██████████| 1/1 [00:00<00:00,  1.61it/s, best loss: 7.706889174348891]\n",
      "100%|██████████| 1/1 [00:07<00:00,  7.23s/it, best loss: 7.706889174348891]\n",
      "100%|██████████| 1/1 [00:00<00:00,  2.93it/s, best loss: 7.706889174348891]\n",
      "100%|██████████| 1/1 [00:30<00:00, 30.13s/it, best loss: 7.706889174348891]\n",
      "100%|██████████| 1/1 [00:00<00:00,  4.35it/s, best loss: 7.706889174348891]\n",
      "100%|██████████| 1/1 [00:23<00:00, 23.52s/it, best loss: 7.706889174348891]\n",
      "100%|██████████| 1/1 [00:10<00:00, 10.25s/it, best loss: 7.706889174348891]\n",
      "100%|██████████| 1/1 [00:18<00:00, 18.92s/it, best loss: 7.706889174348891]\n",
      "100%|██████████| 1/1 [00:04<00:00,  4.83s/it, best loss: 7.706889174348891]\n",
      "100%|██████████| 1/1 [00:00<00:00,  3.17it/s, best loss: 7.706889174348891]\n",
      "100%|██████████| 1/1 [00:05<00:00,  5.04s/it, best loss: 7.706889174348891]\n",
      "100%|██████████| 1/1 [00:01<00:00,  1.67s/it, best loss: 7.706889174348891]\n",
      "100%|██████████| 1/1 [00:00<00:00,  1.05it/s, best loss: 7.706889174348891]\n",
      "100%|██████████| 1/1 [00:30<00:00, 30.15s/it, best loss: 7.706889174348891]\n",
      "100%|██████████| 1/1 [00:00<00:00,  3.12it/s, best loss: 7.706889174348891]\n",
      "100%|██████████| 1/1 [00:01<00:00,  1.24s/it, best loss: 7.706889174348891]\n",
      "100%|██████████| 1/1 [00:02<00:00,  2.95s/it, best loss: 7.706889174348891]\n",
      "100%|██████████| 1/1 [00:04<00:00,  4.69s/it, best loss: 7.706889174348891]\n",
      "100%|██████████| 1/1 [00:30<00:00, 30.23s/it, best loss: 7.706889174348891]\n",
      "100%|██████████| 1/1 [00:03<00:00,  3.79s/it, best loss: 7.706889174348891]\n",
      "100%|██████████| 1/1 [00:07<00:00,  7.03s/it, best loss: 7.706889174348891]\n",
      "100%|██████████| 1/1 [00:00<00:00,  2.11it/s, best loss: 7.706889174348891]\n",
      "100%|██████████| 1/1 [00:00<00:00,  1.97it/s, best loss: 7.706889174348891]\n",
      "100%|██████████| 1/1 [00:06<00:00,  6.05s/it, best loss: 7.706889174348891]\n",
      "100%|██████████| 1/1 [00:01<00:00,  1.65s/it, best loss: 7.706889174348891]\n",
      "100%|██████████| 1/1 [00:08<00:00,  8.01s/it, best loss: 7.706889174348891]\n",
      "100%|██████████| 1/1 [00:00<00:00,  5.63it/s, best loss: 7.706889174348891]\n",
      "100%|██████████| 1/1 [00:30<00:00, 30.25s/it, best loss: 7.706889174348891]\n",
      "100%|██████████| 1/1 [00:05<00:00,  5.34s/it, best loss: 7.706889174348891]\n",
      "100%|██████████| 1/1 [00:00<00:00,  1.14it/s, best loss: 7.706889174348891]\n",
      "100%|██████████| 1/1 [00:04<00:00,  4.11s/it, best loss: 7.706889174348891]\n",
      "100%|██████████| 1/1 [00:03<00:00,  3.70s/it, best loss: 7.706889174348891]\n",
      "100%|██████████| 1/1 [00:04<00:00,  4.05s/it, best loss: 7.706889174348891]\n",
      "100%|██████████| 1/1 [00:06<00:00,  6.64s/it, best loss: 7.706889174348891]\n",
      "100%|██████████| 1/1 [00:06<00:00,  6.91s/it, best loss: 7.706889174348891]\n",
      "100%|██████████| 1/1 [00:02<00:00,  2.18s/it, best loss: 7.706889174348891]\n",
      "100%|██████████| 1/1 [00:03<00:00,  3.13s/it, best loss: 7.706889174348891]\n",
      "100%|██████████| 1/1 [00:04<00:00,  4.20s/it, best loss: 7.706889174348891]\n",
      "100%|██████████| 1/1 [00:01<00:00,  1.86s/it, best loss: 7.706889174348891]\n",
      "100%|██████████| 1/1 [00:11<00:00, 11.27s/it, best loss: 7.706889174348891]\n",
      "100%|██████████| 1/1 [00:01<00:00,  1.01s/it, best loss: 7.706889174348891]\n",
      "100%|██████████| 1/1 [00:01<00:00,  1.82s/it, best loss: 7.706889174348891]\n",
      "100%|██████████| 1/1 [00:00<00:00,  2.50it/s, best loss: 7.706889174348891]\n",
      "100%|██████████| 1/1 [00:04<00:00,  4.66s/it, best loss: 7.706889174348891]\n",
      "100%|██████████| 1/1 [00:12<00:00, 12.55s/it, best loss: 7.706889174348891]\n",
      "100%|██████████| 1/1 [00:00<00:00,  1.81it/s, best loss: 7.706889174348891]\n",
      "100%|██████████| 1/1 [00:13<00:00, 13.22s/it, best loss: 7.706889174348891]\n",
      "100%|██████████| 1/1 [00:08<00:00,  8.02s/it, best loss: 7.706889174348891]\n",
      "100%|██████████| 1/1 [00:02<00:00,  2.96s/it, best loss: 7.706889174348891]\n",
      "100%|██████████| 1/1 [00:30<00:00, 30.26s/it, best loss: 7.706889174348891]\n",
      "100%|██████████| 1/1 [00:05<00:00,  5.48s/it, best loss: 7.706889174348891]\n",
      "100%|██████████| 1/1 [00:00<00:00,  1.15it/s, best loss: 7.706889174348891]\n",
      "100%|██████████| 1/1 [00:07<00:00,  7.40s/it, best loss: 7.706889174348891]\n",
      "100%|██████████| 1/1 [00:00<00:00,  2.58it/s, best loss: 7.706889174348891]\n",
      "100%|██████████| 1/1 [00:05<00:00,  5.10s/it, best loss: 7.706889174348891]\n",
      "100%|██████████| 1/1 [00:00<00:00,  1.48it/s, best loss: 7.706889174348891]\n",
      "100%|██████████| 1/1 [00:06<00:00,  6.84s/it, best loss: 7.706889174348891]\n",
      "100%|██████████| 1/1 [00:03<00:00,  3.32s/it, best loss: 7.706889174348891]\n",
      "100%|██████████| 1/1 [00:01<00:00,  1.85s/it, best loss: 7.706889174348891]\n",
      "100%|██████████| 1/1 [00:03<00:00,  3.40s/it, best loss: 7.706889174348891]\n",
      "100%|██████████| 1/1 [00:30<00:00, 30.12s/it, best loss: 7.706889174348891]\n",
      "100%|██████████| 1/1 [00:00<00:00,  1.12it/s, best loss: 7.706889174348891]\n",
      "100%|██████████| 1/1 [00:00<00:00,  1.95it/s, best loss: 7.706889174348891]\n",
      "100%|██████████| 1/1 [00:05<00:00,  5.03s/it, best loss: 7.706889174348891]\n",
      "100%|██████████| 1/1 [00:01<00:00,  1.40s/it, best loss: 7.706889174348891]\n",
      "100%|██████████| 1/1 [00:04<00:00,  4.54s/it, best loss: 7.706889174348891]\n",
      "100%|██████████| 1/1 [00:00<00:00,  4.77it/s, best loss: 7.706889174348891]\n",
      "100%|██████████| 1/1 [00:08<00:00,  8.78s/it, best loss: 7.706889174348891]\n",
      "100%|██████████| 1/1 [00:05<00:00,  5.12s/it, best loss: 7.706889174348891]\n",
      "100%|██████████| 1/1 [00:00<00:00,  2.51it/s, best loss: 7.706889174348891]\n",
      "100%|██████████| 1/1 [00:30<00:00, 30.13s/it, best loss: 7.706889174348891]\n",
      "100%|██████████| 1/1 [00:03<00:00,  3.17s/it, best loss: 7.706889174348891]\n",
      "100%|██████████| 1/1 [00:07<00:00,  7.27s/it, best loss: 7.706889174348891]\n",
      "100%|██████████| 1/1 [00:03<00:00,  3.52s/it, best loss: 7.706889174348891]\n",
      "100%|██████████| 1/1 [00:01<00:00,  1.52s/it, best loss: 7.706889174348891]\n",
      "100%|██████████| 1/1 [00:00<00:00,  2.85it/s, best loss: 7.706889174348891]\n",
      "100%|██████████| 1/1 [00:04<00:00,  4.08s/it, best loss: 7.706889174348891]\n",
      "100%|██████████| 1/1 [00:05<00:00,  5.09s/it, best loss: 7.706889174348891]\n",
      "100%|██████████| 1/1 [00:00<00:00,  4.98it/s, best loss: 7.706889174348891]\n",
      "100%|██████████| 1/1 [00:02<00:00,  2.71s/it, best loss: 7.706889174348891]\n",
      "100%|██████████| 1/1 [00:00<00:00,  2.11it/s, best loss: 7.706889174348891]\n",
      "100%|██████████| 1/1 [00:30<00:00, 30.27s/it, best loss: 7.706889174348891]\n",
      "100%|██████████| 1/1 [00:00<00:00,  3.57it/s, best loss: 7.706889174348891]\n",
      "100%|██████████| 1/1 [00:08<00:00,  8.51s/it, best loss: 7.706889174348891]\n"
     ]
    }
   ],
   "source": [
    "estim.fit(X_train, y_train.values)"
   ]
  },
  {
   "cell_type": "code",
   "execution_count": 39,
   "metadata": {},
   "outputs": [
    {
     "name": "stdout",
     "output_type": "stream",
     "text": [
      "0.7697562776957164\n"
     ]
    }
   ],
   "source": [
    "print(estim.score(X_test, y_test))"
   ]
  },
  {
   "cell_type": "code",
   "execution_count": 40,
   "metadata": {},
   "outputs": [
    {
     "name": "stdout",
     "output_type": "stream",
     "text": [
      "{'learner': ExtraTreesClassifier(bootstrap=True, class_weight=None, criterion='entropy',\n",
      "                     max_depth=None, max_features=0.8898597773649265,\n",
      "                     max_leaf_nodes=None, min_impurity_decrease=0.0,\n",
      "                     min_impurity_split=None, min_samples_leaf=9,\n",
      "                     min_samples_split=2, min_weight_fraction_leaf=0.0,\n",
      "                     n_estimators=363, n_jobs=1, oob_score=False,\n",
      "                     random_state=2, verbose=False, warm_start=False), 'preprocs': (Normalizer(copy=True, norm='l1'),), 'ex_preprocs': ()}\n"
     ]
    }
   ],
   "source": [
    "print(estim.best_model())"
   ]
  },
  {
   "cell_type": "markdown",
   "metadata": {},
   "source": [
    "After several runs with variables drop we keep the best estimators and test them on the result notebook"
   ]
  },
  {
   "cell_type": "markdown",
   "metadata": {},
   "source": [
    "#### Let's run the iterative variable elimination on the best estimator"
   ]
  },
  {
   "cell_type": "code",
   "execution_count": 41,
   "metadata": {},
   "outputs": [
    {
     "data": {
      "text/plain": [
       "RFECV(cv=2,\n",
       "      estimator=ExtraTreesClassifier(bootstrap=True, class_weight=None,\n",
       "                                     criterion='entropy', max_depth=None,\n",
       "                                     max_features=0.8898597773649265,\n",
       "                                     max_leaf_nodes=None,\n",
       "                                     min_impurity_decrease=0.0,\n",
       "                                     min_impurity_split=None,\n",
       "                                     min_samples_leaf=9, min_samples_split=2,\n",
       "                                     min_weight_fraction_leaf=0.0,\n",
       "                                     n_estimators=363, n_jobs=1,\n",
       "                                     oob_score=False, random_state=2,\n",
       "                                     verbose=False, warm_start=False),\n",
       "      min_features_to_select=1, n_jobs=-1, scoring='neg_log_loss', step=1,\n",
       "      verbose=0)"
      ]
     },
     "execution_count": 41,
     "metadata": {},
     "output_type": "execute_result"
    }
   ],
   "source": [
    "from sklearn.model_selection import StratifiedKFold\n",
    "from sklearn.feature_selection import RFECV\n",
    "\n",
    "rfecv = RFECV(estimator=estim.best_model()[\"learner\"], step=1, cv=2,\n",
    "              scoring='neg_log_loss', n_jobs=-1)\n",
    "rfecv.fit(X, y)"
   ]
  },
  {
   "cell_type": "code",
   "execution_count": 42,
   "metadata": {},
   "outputs": [
    {
     "data": {
      "image/png": "[encoded data removed]",
      "text/plain": [
       "<Figure size 432x288 with 1 Axes>"
      ]
     },
     "metadata": {
      "needs_background": "light"
     },
     "output_type": "display_data"
    }
   ],
   "source": [
    "plt.figure()\n",
    "plt.xlabel(\"Number of features selected\")\n",
    "plt.ylabel(\"Cross validation score (nb of correct classifications)\")\n",
    "plt.plot(range(1, len(rfecv.grid_scores_) + 1), rfecv.grid_scores_)\n",
    "plt.show()"
   ]
  },
  {
   "cell_type": "code",
   "execution_count": null,
   "metadata": {},
   "outputs": [],
   "source": [
    "estim = HyperoptEstimator(classifier=LogisticRegression,\n",
    "                          algo=tpe.suggest,\n",
    "                          max_evals=200,\n",
    "                          trial_timeout=30, # if training round takes more than 30 seconds skip\n",
    "                          loss_fn=log_loss)"
   ]
  }
 ],
 "metadata": {
  "kernelspec": {
   "display_name": "explocode",
   "language": "python",
   "name": "explocode"
  },
  "language_info": {
   "codemirror_mode": {
    "name": "ipython",
    "version": 3
   },
   "file_extension": ".py",
   "mimetype": "text/x-python",
   "name": "python",
   "nbconvert_exporter": "python",
   "pygments_lexer": "ipython3",
   "version": "3.7.3"
  }
 },
 "nbformat": 4,
 "nbformat_minor": 2
}
